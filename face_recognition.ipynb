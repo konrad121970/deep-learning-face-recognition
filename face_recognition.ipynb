{
 "cells": [
  {
   "cell_type": "code",
   "execution_count": 42,
   "metadata": {},
   "outputs": [
    {
     "name": "stdout",
     "output_type": "stream",
     "text": [
      "Training set: \n",
      "Found 111 images belonging to 16 classes.\n",
      "Test set: \n",
      "Found 64 images belonging to 16 classes.\n",
      "Kształt danych wsadowych:  (10, 64, 64, 3)\n",
      "Kształt danych wsadowych:  (10, 16)\n"
     ]
    }
   ],
   "source": [
    "train_dir = 'deep-learning-face-recognition\\\\data\\\\train'\n",
    "test_dir = 'deep-learning-face-recognition\\\\data\\\\test'\n",
    "\n",
    "from keras.preprocessing.image import ImageDataGenerator\n",
    "\n",
    "# No transformations are done on the training images\n",
    "train_datagen = ImageDataGenerator()\n",
    "\n",
    "# train_datagen = ImageDataGenerator(\n",
    "#         shear_range=0.1,\n",
    "#         zoom_range=0.1,\n",
    "#         horizontal_flip=True)\n",
    "\n",
    "# No transformations are done on the testing images\n",
    "test_datagen = ImageDataGenerator()\n",
    "\n",
    "print(\"Training set: \")\n",
    "# Generating the Training Data\n",
    "training_set = train_datagen.flow_from_directory(\n",
    "        train_dir,\n",
    "        target_size=(64, 64),\n",
    "        batch_size=10,\n",
    "        class_mode='categorical')\n",
    "\n",
    "print(\"Test set: \")\n",
    "# Generating the Testing Data\n",
    "test_set = test_datagen.flow_from_directory(\n",
    "        test_dir,\n",
    "        target_size=(64, 64),\n",
    "        batch_size=32,\n",
    "        class_mode='categorical')\n",
    "\n",
    "# Printing class labels for each face\n",
    "test_set.class_indices\n",
    "\n",
    "training_set.class_indices\n",
    "\n",
    "for data_batch, labels_batch in training_set:\n",
    "    print('Kształt danych wsadowych: ', data_batch.shape)\n",
    "    print('Kształt danych wsadowych: ', labels_batch.shape)\n",
    "    break"
   ]
  },
  {
   "cell_type": "code",
   "execution_count": 43,
   "metadata": {},
   "outputs": [
    {
     "name": "stdout",
     "output_type": "stream",
     "text": [
      "Mapping of Face and its ID {0: 'konrad', 1: 'subject01', 2: 'subject02', 3: 'subject03', 4: 'subject04', 5: 'subject05', 6: 'subject06', 7: 'subject07', 8: 'subject08', 9: 'subject09', 10: 'subject10', 11: 'subject11', 12: 'subject12', 13: 'subject13', 14: 'subject14', 15: 'subject15'}\n",
      "\n",
      " The Number of output neurons:  16\n"
     ]
    }
   ],
   "source": [
    "\n",
    "# class_indices have the numeric tag for each face\n",
    "TrainClasses=training_set.class_indices\n",
    " \n",
    "# Storing the face and the numeric tag for future reference\n",
    "ResultMap={}\n",
    "for faceValue,faceName in zip(TrainClasses.values(),TrainClasses.keys()):\n",
    "    ResultMap[faceValue]=faceName\n",
    " \n",
    "# Saving the face map for future reference\n",
    "import pickle\n",
    "with open(\"ResultsMap.pkl\", 'wb') as fileWriteStream:\n",
    "    pickle.dump(ResultMap, fileWriteStream)\n",
    " \n",
    "# The model will give answer as a numeric tag\n",
    "# This mapping will help to get the corresponding face name for it\n",
    "print(\"Mapping of Face and its ID\",ResultMap)\n",
    " \n",
    "# The number of neurons for the output layer is equal to the number of faces\n",
    "OutputNeurons=len(ResultMap)\n",
    "print('\\n The Number of output neurons: ', OutputNeurons)"
   ]
  },
  {
   "cell_type": "code",
   "execution_count": 44,
   "metadata": {},
   "outputs": [
    {
     "name": "stderr",
     "output_type": "stream",
     "text": [
      "C:\\Users\\Konrad\\AppData\\Local\\Temp\\ipykernel_20752\\2888162663.py:24: UserWarning: `Model.fit_generator` is deprecated and will be removed in a future version. Please use `Model.fit`, which supports generators.\n",
      "  model.fit_generator(\n"
     ]
    },
    {
     "name": "stdout",
     "output_type": "stream",
     "text": [
      "Epoch 1/10\n",
      " 9/10 [==========================>...] - ETA: 0s - loss: 103.9896 - accuracy: 0.1235WARNING:tensorflow:Your input ran out of data; interrupting training. Make sure that your dataset or generator can generate at least `steps_per_epoch * epochs` batches (in this case, 10 batches). You may need to use the repeat() function when building your dataset.\n",
      "10/10 [==============================] - 2s 104ms/step - loss: 92.8709 - accuracy: 0.1099 - val_loss: 2.7833 - val_accuracy: 0.1094\n",
      "Epoch 2/10\n",
      "10/10 [==============================] - 0s 43ms/step - loss: 2.2232 - accuracy: 0.3846\n",
      "Epoch 3/10\n",
      "10/10 [==============================] - 1s 50ms/step - loss: 0.8736 - accuracy: 0.7400\n",
      "Epoch 4/10\n",
      "10/10 [==============================] - 0s 42ms/step - loss: 0.3936 - accuracy: 0.9121\n",
      "Epoch 5/10\n",
      "10/10 [==============================] - 0s 43ms/step - loss: 0.2786 - accuracy: 0.9011\n",
      "Epoch 6/10\n",
      "10/10 [==============================] - 0s 41ms/step - loss: 0.0820 - accuracy: 0.9670\n",
      "Epoch 7/10\n",
      "10/10 [==============================] - 0s 42ms/step - loss: 0.0157 - accuracy: 1.0000\n",
      "Epoch 8/10\n",
      "10/10 [==============================] - 0s 41ms/step - loss: 0.0033 - accuracy: 1.0000\n",
      "Epoch 9/10\n",
      "10/10 [==============================] - 0s 41ms/step - loss: 0.0123 - accuracy: 0.9890\n",
      "Epoch 10/10\n",
      "10/10 [==============================] - 0s 41ms/step - loss: 0.0279 - accuracy: 0.9890\n",
      "###### Total Time Taken:  0 Minutes ######\n"
     ]
    }
   ],
   "source": [
    "from keras.models import Sequential\n",
    "from keras.layers import Convolution2D\n",
    "from keras.layers import MaxPool2D\n",
    "from keras.layers import Flatten\n",
    "from keras.layers import Dense\n",
    " \n",
    "\n",
    "model= Sequential()\n",
    "model.add(Convolution2D(32, kernel_size=(5, 5), strides=(1, 1), input_shape=(64,64,3), activation='relu'))\n",
    "model.add(MaxPool2D(pool_size=(2,2)))\n",
    "model.add(Convolution2D(64, kernel_size=(5, 5), strides=(1, 1), activation='relu'))\n",
    "model.add(MaxPool2D(pool_size=(2,2)))\n",
    "model.add(Flatten())\n",
    "model.add(Dense(64, activation='relu'))\n",
    "model.add(Dense(OutputNeurons, activation='softmax'))\n",
    " \n",
    "model.compile(loss='categorical_crossentropy', optimizer = 'adam', metrics=[\"accuracy\"])\n",
    " \n",
    "import time\n",
    "# Measuring the time taken by the model to train\n",
    "start_time = time.time()\n",
    " \n",
    "# Starting the model training\n",
    "model.fit_generator(\n",
    "                    training_set,\n",
    "                    steps_per_epoch=10,\n",
    "                    epochs=10,\n",
    "                    validation_data=test_set,\n",
    "                    validation_steps=10)\n",
    " \n",
    "end_time = time.time()\n",
    "print(\"###### Total Time Taken: \", round((end_time-start_time)/60), 'Minutes ######')"
   ]
  },
  {
   "cell_type": "code",
   "execution_count": 52,
   "metadata": {},
   "outputs": [
    {
     "name": "stdout",
     "output_type": "stream",
     "text": [
      "########################################\n",
      "Prediction is:  konrad\n"
     ]
    }
   ],
   "source": [
    "import numpy as np\n",
    "from keras.preprocessing import image\n",
    " \n",
    "ImagePath='C:\\\\Users\\\\Konrad\\\\Desktop\\\\facial-recognition-cnn\\\\deep-learning-face-recognition\\\\data\\\\test\\\\konrad\\\\konrad_4.jpg'\n",
    "test_image=image.load_img(ImagePath,target_size=(64, 64))\n",
    "test_image=image.img_to_array(test_image)\n",
    " \n",
    "test_image=np.expand_dims(test_image,axis=0)\n",
    " \n",
    "result=model.predict(test_image,verbose=0)\n",
    "#print(training_set.class_indices)\n",
    " \n",
    "print('####'*10)\n",
    "print('Prediction is: ',ResultMap[np.argmax(result)])"
   ]
  },
  {
   "cell_type": "code",
   "execution_count": null,
   "metadata": {},
   "outputs": [],
   "source": []
  }
 ],
 "metadata": {
  "kernelspec": {
   "display_name": "Python 3",
   "language": "python",
   "name": "python3"
  },
  "language_info": {
   "codemirror_mode": {
    "name": "ipython",
    "version": 3
   },
   "file_extension": ".py",
   "mimetype": "text/x-python",
   "name": "python",
   "nbconvert_exporter": "python",
   "pygments_lexer": "ipython3",
   "version": "3.10.10"
  }
 },
 "nbformat": 4,
 "nbformat_minor": 2
}
